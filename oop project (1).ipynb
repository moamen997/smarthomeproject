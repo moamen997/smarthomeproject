{
 "cells": [
  {
   "cell_type": "code",
   "execution_count": null,
   "metadata": {},
   "outputs": [],
   "source": [
    "#smarthome"
   ]
  },
  {
   "cell_type": "code",
   "execution_count": 1,
   "metadata": {},
   "outputs": [],
   "source": [
    "class home:\n",
    "    def __init__(self):\n",
    "        print(\"Welcome\")\n",
    "       # self.name=input(\"enter your name: \")\n",
    "       # self.__password=int(input(\"enter your password: \"))\n",
    "       # self.phonenum=int(input(\"phone number: \"))\n",
    "    \n",
    "    def log_in(self):\n",
    "        self.name=input(\"enter your name: \")\n",
    "        self.__password=int(input(\"enter your password: \"))\n",
    "        self.phonenum=int(input(\"phone number: \"))\n",
    "    \n",
    "    def _password(self):\n",
    "        \n",
    "        userpass=int(input(\"enter your password:\"))\n",
    "        \n",
    "        if userpass==self.__password:\n",
    "            print(\"you can enter\")\n",
    "        \n",
    "        else:\n",
    "            phonenumber=int(input(f\"your password is wrong please enter your phone number to send password for you: \"))\n",
    "            if phonenumber == self.phonenum:\n",
    "                \n",
    "                print(\"dont show anyone this massage\")\n",
    "                print(f\"we send password in massage for u {self.name}\\n pasword is {self.__password}\")\n",
    "            \n",
    "            else:\n",
    "                print(\"you cant enter please enter right phone number\")\n",
    "    \n",
    "    def _check_password(self):\n",
    "        userpass=int(input(\"enter your password:\"))\n",
    "        if userpass==self.__password:\n",
    "            return True\n",
    "        else:\n",
    "            return False\n",
    "        \n",
    "    def master_door(self):\n",
    "        if self._check_password() ==True :\n",
    "            master_door = input(\"u want open or close door: \")\n",
    "            if master_door == (\"open\") :\n",
    "                print(\"master door is open\")\n",
    "                    \n",
    "            elif master_door == (\"close\") :\n",
    "                print(\"master door is not open\")\n",
    "            else:\n",
    "                print(\"wrong thing please try again\")\n",
    "        else:\n",
    "            print(\"wrong password you cant open master door\")\n",
    "    \n",
    "    def car(self):\n",
    "        if (self._check_password() == True):\n",
    "                car = input(\"u want open or close car: \")\n",
    "                if car == \"open\":\n",
    "                    print(\"car is open\")\n",
    "                    \n",
    "                elif car == \"close\":\n",
    "                    print(\"car is not open\")\n",
    "                else:\n",
    "                    print(\"wrong thing please try again\")\n",
    "        else:\n",
    "            print(\"wrong password\")\n",
    "    \n",
    "    \n",
    "    def lighting_of_lounge(self):\n",
    "        lighting_of_lounge=input(\"u want open or close lighting of lounge: \")\n",
    "        \n",
    "        if lighting_of_lounge == \"open\":\n",
    "            print(\"lighting of lounge is open\")\n",
    "        \n",
    "        elif lighting_of_lounge == \"close\":\n",
    "            print(\"lighting of lounge is not open\")\n",
    "        \n",
    "        else:\n",
    "            print(\"wrong thing please try again\")\n",
    "    \n",
    "    \n",
    "    def tv_of_lounge(self):\n",
    "        tv_of_lounge= input(\"u want open or close tv:\")\n",
    "        \n",
    "        if tv_of_lounge == \"open\":\n",
    "            print(\"tv of lounge is open\")\n",
    "        \n",
    "        else: \n",
    "            print(\"tv of lounge is not open\")\n",
    "    \n",
    "    \n",
    "    def waether_of_lounge(self):\n",
    "        print(f\"you want heater or conditing\") \n",
    "        weather =[\"heater\",\"conditing\"]\n",
    "        my_chose=input()\n",
    "        if my_chose in weather:\n",
    "            print(f\"u chose {my_chose}\")\n",
    "            print(f\"you want open {my_chose} or closed {my_chose}\")\n",
    "            oprate = input()\n",
    "            if oprate== \"open\":\n",
    "                print(f\"the {my_chose} is open\")\n",
    "            elif oprate == \"close\":\n",
    "                print(f\"the {my_chose} is not open\")\n",
    "            else:\n",
    "                print(\"wrong thigs please try again\")\n",
    "        else:\n",
    "             print(\"wrong thigs please try again\")"
   ]
  },
  {
   "cell_type": "code",
   "execution_count": 2,
   "metadata": {},
   "outputs": [
    {
     "name": "stdout",
     "output_type": "stream",
     "text": [
      "Welcome\n"
     ]
    }
   ],
   "source": [
    "smart_home=home()"
   ]
  },
  {
   "cell_type": "code",
   "execution_count": 3,
   "metadata": {},
   "outputs": [
    {
     "name": "stdout",
     "output_type": "stream",
     "text": [
      "enter your name: momen\n",
      "enter your password: 123\n",
      "phone number: 111\n"
     ]
    }
   ],
   "source": [
    "smart_home.log_in()"
   ]
  },
  {
   "cell_type": "code",
   "execution_count": 4,
   "metadata": {},
   "outputs": [
    {
     "name": "stdout",
     "output_type": "stream",
     "text": [
      "enter your password:123\n"
     ]
    },
    {
     "data": {
      "text/plain": [
       "True"
      ]
     },
     "execution_count": 4,
     "metadata": {},
     "output_type": "execute_result"
    }
   ],
   "source": [
    "smart_home._check_password()"
   ]
  },
  {
   "cell_type": "code",
   "execution_count": 5,
   "metadata": {},
   "outputs": [
    {
     "name": "stdout",
     "output_type": "stream",
     "text": [
      "enter your password:123\n",
      "you can enter\n"
     ]
    }
   ],
   "source": [
    "smart_home._password()"
   ]
  },
  {
   "cell_type": "code",
   "execution_count": 567,
   "metadata": {
    "scrolled": true
   },
   "outputs": [
    {
     "name": "stdout",
     "output_type": "stream",
     "text": [
      "enter your password:123\n",
      "u want open or close door: open\n",
      "master door is open\n"
     ]
    }
   ],
   "source": [
    "smart_home.master_door()"
   ]
  },
  {
   "cell_type": "code",
   "execution_count": 7,
   "metadata": {},
   "outputs": [
    {
     "name": "stdout",
     "output_type": "stream",
     "text": [
      "enter your password:123\n",
      "u want open or close door: open\n",
      "master door is open\n"
     ]
    }
   ],
   "source": [
    "smart_home.master_door()"
   ]
  },
  {
   "cell_type": "code",
   "execution_count": 8,
   "metadata": {},
   "outputs": [
    {
     "name": "stdout",
     "output_type": "stream",
     "text": [
      "enter your password:123\n",
      "u want open or close car: open\n",
      "car is open\n"
     ]
    }
   ],
   "source": [
    "smart_home.car()"
   ]
  },
  {
   "cell_type": "code",
   "execution_count": 212,
   "metadata": {},
   "outputs": [
    {
     "name": "stdout",
     "output_type": "stream",
     "text": [
      "u want open or close tv:open\n",
      "tv of lounge is open\n"
     ]
    }
   ],
   "source": [
    "smart_home.tv_of_lounge()"
   ]
  },
  {
   "cell_type": "code",
   "execution_count": 244,
   "metadata": {},
   "outputs": [
    {
     "name": "stdout",
     "output_type": "stream",
     "text": [
      "you want heater or conditing\n",
      "conditinigdasfsf\n",
      "wrong thigs please try again\n"
     ]
    }
   ],
   "source": [
    "smart_home.waether_of_lounge()"
   ]
  },
  {
   "cell_type": "code",
   "execution_count": 216,
   "metadata": {},
   "outputs": [
    {
     "name": "stdout",
     "output_type": "stream",
     "text": [
      "u want open or close car: oprn\n",
      "wrong thing please try again\n"
     ]
    }
   ],
   "source": [
    "smart_home.lighting_of_lounge()"
   ]
  },
  {
   "cell_type": "code",
   "execution_count": null,
   "metadata": {},
   "outputs": [],
   "source": []
  },
  {
   "cell_type": "code",
   "execution_count": null,
   "metadata": {},
   "outputs": [],
   "source": []
  },
  {
   "cell_type": "code",
   "execution_count": null,
   "metadata": {},
   "outputs": [],
   "source": []
  },
  {
   "cell_type": "code",
   "execution_count": null,
   "metadata": {},
   "outputs": [],
   "source": []
  },
  {
   "cell_type": "code",
   "execution_count": null,
   "metadata": {},
   "outputs": [],
   "source": []
  },
  {
   "cell_type": "code",
   "execution_count": null,
   "metadata": {},
   "outputs": [],
   "source": []
  },
  {
   "cell_type": "code",
   "execution_count": null,
   "metadata": {},
   "outputs": [],
   "source": []
  },
  {
   "cell_type": "code",
   "execution_count": 9,
   "metadata": {},
   "outputs": [],
   "source": [
    "class all_rooms(home):\n",
    "    def __init__(self):\n",
    "        print(\"all rooms control\")\n",
    "        super().__init__()\n",
    "    \n",
    "    \n",
    "    def lighting_of_room(self):\n",
    "        lighting_of_room = input(\"u want open or close  room light:\")\n",
    "        if lighting_of_room == \"open\":\n",
    "            print(\" light in  room is open\")\n",
    "        elif lighting_of_room == \"close\":\n",
    "            print(\" light in  room  is not open\")\n",
    "        else:\n",
    "            print(\"wrong thing please try again\")\n",
    "    def tv_of_room(self):\n",
    "        room_tv=input(\"u want open or close tv of room: \")\n",
    "        if room_tv == \"open\":\n",
    "            print(\"tv in room is open\")\n",
    "        elif room_tv == \"close\":\n",
    "            print(\"tv in room  is not open\")\n",
    "        else:\n",
    "            print(\"wrong thing please try again\")\n",
    "    def weather_of_room(self):\n",
    "        print(f\"you want heater or conditing\")  \n",
    "        weather =[\"heater\",\"conditing\"]  \n",
    "        my_chose=input()  \n",
    "        if my_chose in weather:\n",
    "            print(f\"u chose {my_chose}\")\n",
    "            print(f\"you want open {my_chose} or closed {my_chose}\")\n",
    "            oprate = input() \n",
    "            if oprate== \"open\":\n",
    "                print(f\"the {my_chose} is open\")\n",
    "            elif oprate == \"close\":\n",
    "                print(f\"the {my_chose} is not open\")\n",
    "            else:\n",
    "                print(\"wrong thigs please try again\")\n",
    "        else:\n",
    "            print(\"wrong thigs please try again\")\n",
    "class room_one(all_rooms):\n",
    "    pass\n",
    "class room_two(all_rooms):\n",
    "    pass\n",
    "class room_three(all_rooms):\n",
    "    pass"
   ]
  },
  {
   "cell_type": "code",
   "execution_count": 10,
   "metadata": {},
   "outputs": [
    {
     "name": "stdout",
     "output_type": "stream",
     "text": [
      "all rooms control\n",
      "Welcome\n"
     ]
    }
   ],
   "source": [
    "rooms = all_rooms()"
   ]
  },
  {
   "cell_type": "code",
   "execution_count": 416,
   "metadata": {},
   "outputs": [
    {
     "name": "stdout",
     "output_type": "stream",
     "text": [
      "u want open or close tv of room: open\n",
      "tv in room is open\n"
     ]
    }
   ],
   "source": [
    "rooms.tv_of_room()"
   ]
  },
  {
   "cell_type": "code",
   "execution_count": 417,
   "metadata": {},
   "outputs": [
    {
     "name": "stdout",
     "output_type": "stream",
     "text": [
      "you want heater or conditing\n",
      "fegd\n",
      "wrong thigs please try again\n"
     ]
    }
   ],
   "source": [
    "rooms.weather_of_room()"
   ]
  },
  {
   "cell_type": "code",
   "execution_count": 418,
   "metadata": {
    "scrolled": true
   },
   "outputs": [
    {
     "name": "stdout",
     "output_type": "stream",
     "text": [
      "u want open or close  room light:open\n",
      " light in  room is open\n"
     ]
    }
   ],
   "source": [
    "rooms.lighting_of_room()"
   ]
  },
  {
   "cell_type": "code",
   "execution_count": 420,
   "metadata": {},
   "outputs": [
    {
     "name": "stdout",
     "output_type": "stream",
     "text": [
      "enter your password:5\n"
     ]
    },
    {
     "data": {
      "text/plain": [
       "True"
      ]
     },
     "execution_count": 420,
     "metadata": {},
     "output_type": "execute_result"
    }
   ],
   "source": [
    "rooms._check_password()"
   ]
  },
  {
   "cell_type": "code",
   "execution_count": 422,
   "metadata": {},
   "outputs": [
    {
     "name": "stdout",
     "output_type": "stream",
     "text": [
      "enter your name: d\n",
      "enter your password: 4\n",
      "phone number: 5\n"
     ]
    }
   ],
   "source": [
    "one=room_one()"
   ]
  },
  {
   "cell_type": "code",
   "execution_count": 423,
   "metadata": {},
   "outputs": [
    {
     "name": "stdout",
     "output_type": "stream",
     "text": [
      "you want heater or conditing\n",
      "dfcxgx\n",
      "wrong thigs please try again\n"
     ]
    }
   ],
   "source": [
    "one.weather_of_room()"
   ]
  },
  {
   "cell_type": "code",
   "execution_count": 424,
   "metadata": {},
   "outputs": [
    {
     "name": "stdout",
     "output_type": "stream",
     "text": [
      "u want open or close tv of room: open\n",
      "tv in room is open\n"
     ]
    }
   ],
   "source": [
    "one.tv_of_room()"
   ]
  },
  {
   "cell_type": "code",
   "execution_count": 425,
   "metadata": {},
   "outputs": [
    {
     "name": "stdout",
     "output_type": "stream",
     "text": [
      "u want open or close  room light:open\n",
      " light in  room is open\n"
     ]
    }
   ],
   "source": [
    "one.lighting_of_room()"
   ]
  },
  {
   "cell_type": "code",
   "execution_count": 439,
   "metadata": {},
   "outputs": [
    {
     "name": "stdout",
     "output_type": "stream",
     "text": [
      "Welcome\n"
     ]
    }
   ],
   "source": [
    "two=room_two()"
   ]
  },
  {
   "cell_type": "code",
   "execution_count": 346,
   "metadata": {},
   "outputs": [
    {
     "ename": "NameError",
     "evalue": "name 'two' is not defined",
     "output_type": "error",
     "traceback": [
      "\u001b[1;31m---------------------------------------------------------------------------\u001b[0m",
      "\u001b[1;31mNameError\u001b[0m                                 Traceback (most recent call last)",
      "\u001b[1;32m<ipython-input-346-05f6478f9f51>\u001b[0m in \u001b[0;36m<module>\u001b[1;34m\u001b[0m\n\u001b[1;32m----> 1\u001b[1;33m \u001b[0mtwo\u001b[0m\u001b[1;33m.\u001b[0m\u001b[0mlighting_of_room\u001b[0m\u001b[1;33m(\u001b[0m\u001b[1;33m)\u001b[0m\u001b[1;33m\u001b[0m\u001b[1;33m\u001b[0m\u001b[0m\n\u001b[0m",
      "\u001b[1;31mNameError\u001b[0m: name 'two' is not defined"
     ]
    }
   ],
   "source": [
    "two.lighting_of_room()"
   ]
  },
  {
   "cell_type": "code",
   "execution_count": null,
   "metadata": {},
   "outputs": [],
   "source": []
  }
 ],
 "metadata": {
  "kernelspec": {
   "display_name": "Python 3",
   "language": "python",
   "name": "python3"
  },
  "language_info": {
   "codemirror_mode": {
    "name": "ipython",
    "version": 3
   },
   "file_extension": ".py",
   "mimetype": "text/x-python",
   "name": "python",
   "nbconvert_exporter": "python",
   "pygments_lexer": "ipython3",
   "version": "3.8.3"
  }
 },
 "nbformat": 4,
 "nbformat_minor": 4
}
